{
 "cells": [
  {
   "cell_type": "code",
   "execution_count": null,
   "id": "c307a466",
   "metadata": {},
   "outputs": [],
   "source": [
    "import yfinance as yf\n",
    "import pandas as pd\n",
    "import numpy as np\n",
    "import matplotlib.pyplot as plt"
   ]
  },
  {
   "cell_type": "code",
   "execution_count": null,
   "id": "3fd454db",
   "metadata": {},
   "outputs": [],
   "source": [
    "tickerData = yf.Ticker('MSFT')"
   ]
  },
  {
   "cell_type": "code",
   "execution_count": null,
   "id": "c79fe487",
   "metadata": {},
   "outputs": [],
   "source": [
    "ticker_financials = tickerData.recommendations\n",
    "ticker_dividends = tickerData.dividends\n",
    "ticker_cashflow = tickerData.cashflow \n",
    "ticker_bs = tickerData.balance_sheet"
   ]
  },
  {
   "cell_type": "code",
   "execution_count": null,
   "id": "6af9e8ec",
   "metadata": {},
   "outputs": [],
   "source": [
    "type(ticker_financials)"
   ]
  },
  {
   "cell_type": "code",
   "execution_count": null,
   "id": "7b0d7f6b",
   "metadata": {
    "scrolled": true
   },
   "outputs": [],
   "source": [
    "rec = ticker_financials.groupby(['To Grade'])['To Grade'].count().reset_index(drop=True)"
   ]
  },
  {
   "cell_type": "code",
   "execution_count": null,
   "id": "7963e051",
   "metadata": {},
   "outputs": [],
   "source": [
    "rec"
   ]
  },
  {
   "cell_type": "code",
   "execution_count": null,
   "id": "2efa552e",
   "metadata": {},
   "outputs": [],
   "source": [
    "type(rec)\n",
    "    "
   ]
  },
  {
   "cell_type": "code",
   "execution_count": null,
   "id": "40db213c",
   "metadata": {},
   "outputs": [],
   "source": [
    "recDF = rec.to_frame()\n",
    "recDF"
   ]
  },
  {
   "cell_type": "code",
   "execution_count": null,
   "id": "da7717df",
   "metadata": {},
   "outputs": [],
   "source": [
    "type(recDF)"
   ]
  },
  {
   "cell_type": "code",
   "execution_count": null,
   "id": "b6905d4b",
   "metadata": {},
   "outputs": [],
   "source": [
    "column_names = ['Long Term Sell', 'Buy', 'Equal-Weight', 'Hold', 'Long-term Buy', 'Market Perform', 'Neutral', 'Outperform', 'Overweight', 'Perform', 'Sector Perform', 'Sell', 'Strong Buy', 'Underperform', 'Underweight']"
   ]
  },
  {
   "cell_type": "code",
   "execution_count": null,
   "id": "6ee47a1c",
   "metadata": {},
   "outputs": [],
   "source": [
    "recDF['Label'] = column_names"
   ]
  },
  {
   "cell_type": "code",
   "execution_count": null,
   "id": "45319a0c",
   "metadata": {},
   "outputs": [],
   "source": [
    "recDF"
   ]
  },
  {
   "cell_type": "code",
   "execution_count": null,
   "id": "57800a84",
   "metadata": {},
   "outputs": [],
   "source": [
    "new_recDF = recDF.iloc[:, [1,0]]\n",
    "new_recDF"
   ]
  },
  {
   "cell_type": "code",
   "execution_count": null,
   "id": "156c32b4",
   "metadata": {},
   "outputs": [],
   "source": [
    "plt.bar(new_recDF['Label'], new_recDF['To Grade'], width=0.4)"
   ]
  },
  {
   "cell_type": "code",
   "execution_count": null,
   "id": "65b2135a",
   "metadata": {},
   "outputs": [],
   "source": [
    "tf=tickerData.financials\n",
    "tf"
   ]
  },
  {
   "cell_type": "code",
   "execution_count": null,
   "id": "dfea4d99",
   "metadata": {},
   "outputs": [],
   "source": [
    "tft = tf.transpose()\n",
    "tft"
   ]
  },
  {
   "cell_type": "code",
   "execution_count": null,
   "id": "34ab4cf8",
   "metadata": {},
   "outputs": [],
   "source": [
    "gpDF = tft['Gross Profit'].to_frame()\n",
    "gpDF"
   ]
  },
  {
   "cell_type": "code",
   "execution_count": null,
   "id": "b05b6418",
   "metadata": {},
   "outputs": [],
   "source": [
    "type(gpDF)"
   ]
  },
  {
   "cell_type": "code",
   "execution_count": null,
   "id": "b4a4096a",
   "metadata": {},
   "outputs": [],
   "source": [
    "plt.plot(gpDF)"
   ]
  },
  {
   "cell_type": "code",
   "execution_count": null,
   "id": "ed15a289",
   "metadata": {},
   "outputs": [],
   "source": [
    "ticker_dividends"
   ]
  },
  {
   "cell_type": "code",
   "execution_count": null,
   "id": "204d780b",
   "metadata": {},
   "outputs": [],
   "source": [
    "ticker_cashflow/1000000"
   ]
  },
  {
   "cell_type": "code",
   "execution_count": null,
   "id": "c98b6467",
   "metadata": {},
   "outputs": [],
   "source": [
    "ticker_bs/1000000"
   ]
  },
  {
   "cell_type": "code",
   "execution_count": 6,
   "id": "d8bb1682",
   "metadata": {},
   "outputs": [
    {
     "data": {
      "text/html": [
       "<div>\n",
       "<style scoped>\n",
       "    .dataframe tbody tr th:only-of-type {\n",
       "        vertical-align: middle;\n",
       "    }\n",
       "\n",
       "    .dataframe tbody tr th {\n",
       "        vertical-align: top;\n",
       "    }\n",
       "\n",
       "    .dataframe thead th {\n",
       "        text-align: right;\n",
       "    }\n",
       "</style>\n",
       "<table border=\"1\" class=\"dataframe\">\n",
       "  <thead>\n",
       "    <tr style=\"text-align: right;\">\n",
       "      <th></th>\n",
       "      <th>Firm</th>\n",
       "      <th>To Grade</th>\n",
       "      <th>From Grade</th>\n",
       "      <th>Action</th>\n",
       "    </tr>\n",
       "    <tr>\n",
       "      <th>Date</th>\n",
       "      <th></th>\n",
       "      <th></th>\n",
       "      <th></th>\n",
       "      <th></th>\n",
       "    </tr>\n",
       "  </thead>\n",
       "  <tbody>\n",
       "    <tr>\n",
       "      <th>2012-03-16 08:19:00</th>\n",
       "      <td>Argus Research</td>\n",
       "      <td>Buy</td>\n",
       "      <td></td>\n",
       "      <td>up</td>\n",
       "    </tr>\n",
       "    <tr>\n",
       "      <th>2012-03-19 14:00:00</th>\n",
       "      <td>Hilliard Lyons</td>\n",
       "      <td>Long-Term Buy</td>\n",
       "      <td></td>\n",
       "      <td>main</td>\n",
       "    </tr>\n",
       "    <tr>\n",
       "      <th>2012-03-22 07:03:00</th>\n",
       "      <td>Morgan Stanley</td>\n",
       "      <td>Overweight</td>\n",
       "      <td></td>\n",
       "      <td>main</td>\n",
       "    </tr>\n",
       "    <tr>\n",
       "      <th>2012-04-03 11:53:00</th>\n",
       "      <td>UBS</td>\n",
       "      <td>Buy</td>\n",
       "      <td></td>\n",
       "      <td>main</td>\n",
       "    </tr>\n",
       "    <tr>\n",
       "      <th>2012-04-20 06:18:00</th>\n",
       "      <td>Deutsche Bank</td>\n",
       "      <td>Buy</td>\n",
       "      <td></td>\n",
       "      <td>main</td>\n",
       "    </tr>\n",
       "    <tr>\n",
       "      <th>...</th>\n",
       "      <td>...</td>\n",
       "      <td>...</td>\n",
       "      <td>...</td>\n",
       "      <td>...</td>\n",
       "    </tr>\n",
       "    <tr>\n",
       "      <th>2022-04-26 12:02:43</th>\n",
       "      <td>BMO Capital</td>\n",
       "      <td>Outperform</td>\n",
       "      <td></td>\n",
       "      <td>main</td>\n",
       "    </tr>\n",
       "    <tr>\n",
       "      <th>2022-04-27 10:30:55</th>\n",
       "      <td>Wolfe Research</td>\n",
       "      <td>Outperform</td>\n",
       "      <td></td>\n",
       "      <td>main</td>\n",
       "    </tr>\n",
       "    <tr>\n",
       "      <th>2022-04-27 11:39:41</th>\n",
       "      <td>Deutsche Bank</td>\n",
       "      <td>Buy</td>\n",
       "      <td></td>\n",
       "      <td>main</td>\n",
       "    </tr>\n",
       "    <tr>\n",
       "      <th>2022-04-27 11:42:42</th>\n",
       "      <td>Stifel</td>\n",
       "      <td>Buy</td>\n",
       "      <td></td>\n",
       "      <td>main</td>\n",
       "    </tr>\n",
       "    <tr>\n",
       "      <th>2022-04-27 11:46:09</th>\n",
       "      <td>Wedbush</td>\n",
       "      <td>Outperform</td>\n",
       "      <td></td>\n",
       "      <td>main</td>\n",
       "    </tr>\n",
       "  </tbody>\n",
       "</table>\n",
       "<p>373 rows × 4 columns</p>\n",
       "</div>"
      ],
      "text/plain": [
       "                               Firm       To Grade From Grade Action\n",
       "Date                                                                \n",
       "2012-03-16 08:19:00  Argus Research            Buy                up\n",
       "2012-03-19 14:00:00  Hilliard Lyons  Long-Term Buy              main\n",
       "2012-03-22 07:03:00  Morgan Stanley     Overweight              main\n",
       "2012-04-03 11:53:00             UBS            Buy              main\n",
       "2012-04-20 06:18:00   Deutsche Bank            Buy              main\n",
       "...                             ...            ...        ...    ...\n",
       "2022-04-26 12:02:43     BMO Capital     Outperform              main\n",
       "2022-04-27 10:30:55  Wolfe Research     Outperform              main\n",
       "2022-04-27 11:39:41   Deutsche Bank            Buy              main\n",
       "2022-04-27 11:42:42          Stifel            Buy              main\n",
       "2022-04-27 11:46:09         Wedbush     Outperform              main\n",
       "\n",
       "[373 rows x 4 columns]"
      ]
     },
     "execution_count": 6,
     "metadata": {},
     "output_type": "execute_result"
    }
   ],
   "source": [
    "ticker_financials"
   ]
  },
  {
   "cell_type": "code",
   "execution_count": 12,
   "id": "0a880772",
   "metadata": {},
   "outputs": [
    {
     "data": {
      "text/plain": [
       "To Grade\n",
       "                    1\n",
       "Buy               115\n",
       "Equal-Weight        6\n",
       "Hold               14\n",
       "Long-Term Buy       1\n",
       "Market Perform     10\n",
       "Neutral            37\n",
       "Outperform         76\n",
       "Overweight         83\n",
       "Perform             1\n",
       "Sector Perform      2\n",
       "Sell               10\n",
       "Strong Buy          9\n",
       "Underperform        6\n",
       "Underweight         2\n",
       "Name: To Grade, dtype: int64"
      ]
     },
     "execution_count": 12,
     "metadata": {},
     "output_type": "execute_result"
    }
   ],
   "source": [
    "recccc = ticker_financials.groupby(['To Grade'])['To Grade'].count()\n",
    "recccc"
   ]
  },
  {
   "cell_type": "code",
   "execution_count": 18,
   "id": "09b53756",
   "metadata": {},
   "outputs": [],
   "source": [
    "df_final = recccc.to_frame()"
   ]
  },
  {
   "cell_type": "code",
   "execution_count": 25,
   "id": "f007a803",
   "metadata": {},
   "outputs": [
    {
     "data": {
      "text/plain": [
       "pandas.core.frame.DataFrame"
      ]
     },
     "execution_count": 25,
     "metadata": {},
     "output_type": "execute_result"
    }
   ],
   "source": [
    "type(df_final)"
   ]
  },
  {
   "cell_type": "code",
   "execution_count": 28,
   "id": "af5454a1",
   "metadata": {},
   "outputs": [
    {
     "data": {
      "text/html": [
       "<div>\n",
       "<style scoped>\n",
       "    .dataframe tbody tr th:only-of-type {\n",
       "        vertical-align: middle;\n",
       "    }\n",
       "\n",
       "    .dataframe tbody tr th {\n",
       "        vertical-align: top;\n",
       "    }\n",
       "\n",
       "    .dataframe thead th {\n",
       "        text-align: right;\n",
       "    }\n",
       "</style>\n",
       "<table border=\"1\" class=\"dataframe\">\n",
       "  <thead>\n",
       "    <tr style=\"text-align: right;\">\n",
       "      <th></th>\n",
       "      <th>To Grade</th>\n",
       "    </tr>\n",
       "    <tr>\n",
       "      <th>Grade</th>\n",
       "      <th></th>\n",
       "    </tr>\n",
       "  </thead>\n",
       "  <tbody>\n",
       "    <tr>\n",
       "      <th></th>\n",
       "      <td>1</td>\n",
       "    </tr>\n",
       "    <tr>\n",
       "      <th>Buy</th>\n",
       "      <td>115</td>\n",
       "    </tr>\n",
       "    <tr>\n",
       "      <th>Equal-Weight</th>\n",
       "      <td>6</td>\n",
       "    </tr>\n",
       "    <tr>\n",
       "      <th>Hold</th>\n",
       "      <td>14</td>\n",
       "    </tr>\n",
       "    <tr>\n",
       "      <th>Long-Term Buy</th>\n",
       "      <td>1</td>\n",
       "    </tr>\n",
       "    <tr>\n",
       "      <th>Market Perform</th>\n",
       "      <td>10</td>\n",
       "    </tr>\n",
       "    <tr>\n",
       "      <th>Neutral</th>\n",
       "      <td>37</td>\n",
       "    </tr>\n",
       "    <tr>\n",
       "      <th>Outperform</th>\n",
       "      <td>76</td>\n",
       "    </tr>\n",
       "    <tr>\n",
       "      <th>Overweight</th>\n",
       "      <td>83</td>\n",
       "    </tr>\n",
       "    <tr>\n",
       "      <th>Perform</th>\n",
       "      <td>1</td>\n",
       "    </tr>\n",
       "    <tr>\n",
       "      <th>Sector Perform</th>\n",
       "      <td>2</td>\n",
       "    </tr>\n",
       "    <tr>\n",
       "      <th>Sell</th>\n",
       "      <td>10</td>\n",
       "    </tr>\n",
       "    <tr>\n",
       "      <th>Strong Buy</th>\n",
       "      <td>9</td>\n",
       "    </tr>\n",
       "    <tr>\n",
       "      <th>Underperform</th>\n",
       "      <td>6</td>\n",
       "    </tr>\n",
       "    <tr>\n",
       "      <th>Underweight</th>\n",
       "      <td>2</td>\n",
       "    </tr>\n",
       "  </tbody>\n",
       "</table>\n",
       "</div>"
      ],
      "text/plain": [
       "                To Grade\n",
       "Grade                   \n",
       "                       1\n",
       "Buy                  115\n",
       "Equal-Weight           6\n",
       "Hold                  14\n",
       "Long-Term Buy          1\n",
       "Market Perform        10\n",
       "Neutral               37\n",
       "Outperform            76\n",
       "Overweight            83\n",
       "Perform                1\n",
       "Sector Perform         2\n",
       "Sell                  10\n",
       "Strong Buy             9\n",
       "Underperform           6\n",
       "Underweight            2"
      ]
     },
     "execution_count": 28,
     "metadata": {},
     "output_type": "execute_result"
    }
   ],
   "source": [
    "df_final.index.names = ['Grade']\n",
    "df_final"
   ]
  },
  {
   "cell_type": "code",
   "execution_count": 30,
   "id": "88160cff",
   "metadata": {},
   "outputs": [
    {
     "data": {
      "text/plain": [
       "['',\n",
       " 'Buy',\n",
       " 'Equal-Weight',\n",
       " 'Hold',\n",
       " 'Long-Term Buy',\n",
       " 'Market Perform',\n",
       " 'Neutral',\n",
       " 'Outperform',\n",
       " 'Overweight',\n",
       " 'Perform',\n",
       " 'Sector Perform',\n",
       " 'Sell',\n",
       " 'Strong Buy',\n",
       " 'Underperform',\n",
       " 'Underweight']"
      ]
     },
     "execution_count": 30,
     "metadata": {},
     "output_type": "execute_result"
    }
   ],
   "source": [
    "reclist = list(df_final.index)\n",
    "reclist"
   ]
  }
 ],
 "metadata": {
  "kernelspec": {
   "display_name": "Python 3 (ipykernel)",
   "language": "python",
   "name": "python3"
  },
  "language_info": {
   "codemirror_mode": {
    "name": "ipython",
    "version": 3
   },
   "file_extension": ".py",
   "mimetype": "text/x-python",
   "name": "python",
   "nbconvert_exporter": "python",
   "pygments_lexer": "ipython3",
   "version": "3.9.7"
  }
 },
 "nbformat": 4,
 "nbformat_minor": 5
}
